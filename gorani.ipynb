{
 "cells": [
  {
   "cell_type": "code",
   "execution_count": 29,
   "metadata": {
    "scrolled": true
   },
   "outputs": [
    {
     "name": "stdout",
     "output_type": "stream",
     "text": [
      "x19, y10, w152, h86, 171, 96\n"
     ]
    }
   ],
   "source": [
    "/*** 영상 드래그 알고리즘 ***/\n",
    "\n",
    "import cv2\n",
    "import numpy as np\n",
    "\n",
    "isDragging = False                         # 마우스 드래그 상태 저장\n",
    "x0,y0,w,h = -1,-1,-1,-1 # 영역 선택 좌표 저장\n",
    "x1,y1 = -1, -1\n",
    "blue,red = (255,0,0),(0,0,255)              # 색상 값\n",
    "\n",
    "def onMouse(event, x, y, flags, param):     # 마우스 이벤트 핸들 함수\n",
    "    global isDragging, x0, y0, x1, y1, w, h, img          # 전역 변수 참조\n",
    "    if event == cv2.EVENT_LBUTTONDOWN:      # 왼쪽 마우스 버튼 다운, 드래그 시작\n",
    "        isDragging = True\n",
    "        x0 = x\n",
    "        y0 = y\n",
    "        \n",
    "    elif event == cv2.EVENT_MOUSEMOVE:      # 마우스 움직임\n",
    "        if isDragging:                       # 드래그 진행 중\n",
    "            img_draw = img.copy()            # 사각형 그림 표현을 위한 이미지 복제 (매번 같은 이미지에 그려지면 이미지가 더러워짐)\n",
    "            cv2.rectangle(img_draw, (x0,y0), (x,y), blue, 2)  # 드래그 진행 영역 표시\n",
    "            cv2.imshow('img', img_draw)       # 사각형으로 표시된 그림 화면 출력\n",
    "            \n",
    "    elif event == cv2.EVENT_LBUTTONUP:       # 왼쪽 마우스 버튼 업\n",
    "        if isDragging:                        # 드래그 중지\n",
    "            isDragging = False               \n",
    "            w= x - x0                         # 드래그 영역 폭 계산\n",
    "            h= y - y0                         # 드래그 영역 높이 계산\n",
    "            x1= x0 + w\n",
    "            y1= y0 + h\n",
    "            print(\"x%d, y%d, w%d, h%d, %d, %d\" % (x0, y0, w, h, x1, y1) )\n",
    "            if w>0 and h>0:                  # 폭과 높이가 양수이면 드래그 방향이 옳음\n",
    "                img_draw = img.copy()         # 선택 영역에 사각형 그림을 표시할 이미지 복제\n",
    "                cv2.rectangle(img_draw, (x0, y0), (x, y), red, 2) # 선택 영역에 빨간색 사각형 표시\n",
    "                cv2.imshow('img', img_draw)         # 빨간색 사각형이 그려진 이미지 화면 출력\n",
    "                roi = img[y0:y0+h, x0:x0+w]         # 원본 이미지에서 선택 영역만 ROI로 지정\n",
    "            else:\n",
    "            # 드래그 방향이 잘못된 경우 사각형 그림이 없는 원본 이미지 출력\n",
    "                cv2.imshow('img', img)\n",
    "                print('좌측 상단에서 우측 하단으로 영역을 드래그하세요.')\n",
    "\n",
    "img = cv2.imread('hough.jpg')\n",
    "cv2.imshow('img', img)\n",
    "cv2.setMouseCallback('img', onMouse) # 마우스 이벤트 등록\n",
    "cv2.waitKey()\n",
    "cv2.destroyAllWindows()"
   ]
  },
  {
   "cell_type": "code",
   "execution_count": 30,
   "metadata": {},
   "outputs": [
    {
     "name": "stdout",
     "output_type": "stream",
     "text": [
      "19 10 152 86\n",
      "171 96\n"
     ]
    }
   ],
   "source": [
    "print(x0, y0, w, h)\n",
    "print(x1, y1)\n"
   ]
  },
  {
   "cell_type": "code",
   "execution_count": 32,
   "metadata": {},
   "outputs": [
    {
     "name": "stdout",
     "output_type": "stream",
     "text": [
      "두개의 사각형이 겹치지 않음!\n"
     ]
    }
   ],
   "source": [
    "/*** 충돌 알고리즘 ***/\n",
    "\n",
    "def check_rec():\n",
    "    rec_x1= x0 # 첫번째 사각형의 x0 좌표\n",
    "    rec_y1= y0 # 첫번째 사각형의 y0 좌표\n",
    "    rec_x2= x1 # 첫번째 사각형의 x1 좌표\n",
    "    rec_y2= y1 # 첫번째 사각형의 y1 좌표\n",
    " \n",
    "    rec2_x1=172\n",
    "    rec2_y1=97\n",
    "    rec2_x2=200\n",
    "    rec2_y2=100\n",
    " \n",
    "    maxrec_x = max(rec_x1,rec_x2)\n",
    "    minrec_x = min(rec_x1,rec_x2)\n",
    "    maxrec_y = max(rec_y1, rec_y2)\n",
    "    minrec_y = min(rec_y1, rec_y2)\n",
    " \n",
    "    if not minrec_x < rec2_x1 < maxrec_x and not\\\n",
    "    minrec_x < rec2_x2 < maxrec_x and not\\\n",
    "    minrec_y < rec2_y1 < maxrec_y and not\\\n",
    "    minrec_y < rec2_y2 < maxrec_y:\n",
    "        return '두개의 사각형이 겹치지 않음!'\n",
    "    else:\n",
    "        return '두개의 사각형이 겹침!' # 앱에 알림가도록 수정해야함.\n",
    " \n",
    "print(check_rec())"
   ]
  },
  {
   "cell_type": "code",
   "execution_count": null,
   "metadata": {},
   "outputs": [],
   "source": []
  }
 ],
 "metadata": {
  "kernelspec": {
   "display_name": "Python 3",
   "language": "python",
   "name": "python3"
  },
  "language_info": {
   "codemirror_mode": {
    "name": "ipython",
    "version": 3
   },
   "file_extension": ".py",
   "mimetype": "text/x-python",
   "name": "python",
   "nbconvert_exporter": "python",
   "pygments_lexer": "ipython3",
   "version": "3.8.5"
  }
 },
 "nbformat": 4,
 "nbformat_minor": 4
}
